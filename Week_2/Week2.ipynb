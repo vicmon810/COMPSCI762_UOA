{
 "cells": [
  {
   "cell_type": "code",
   "execution_count": null,
   "id": "bd7460d1-d765-4c18-a38b-9e03cf330111",
   "metadata": {},
   "outputs": [],
   "source": [
    "# Week 2\n",
    "import numpy \n",
    "import "
   ]
  }
 ],
 "metadata": {
  "kernelspec": {
   "display_name": "Python 3 (ipykernel)",
   "language": "python",
   "name": "python3"
  },
  "language_info": {
   "codemirror_mode": {
    "name": "ipython",
    "version": 3
   },
   "file_extension": ".py",
   "mimetype": "text/x-python",
   "name": "python",
   "nbconvert_exporter": "python",
   "pygments_lexer": "ipython3",
   "version": "3.12.2"
  }
 },
 "nbformat": 4,
 "nbformat_minor": 5
}

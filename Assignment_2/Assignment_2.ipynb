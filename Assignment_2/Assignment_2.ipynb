{
 "cells": [
  {
   "cell_type": "code",
   "execution_count": 106,
   "id": "1e3e93ec-ddf8-411e-b0c7-c8b54e61c9d6",
   "metadata": {},
   "outputs": [
    {
     "name": "stderr",
     "output_type": "stream",
     "text": [
      "[nltk_data] Downloading package stopwords to\n",
      "[nltk_data]     /Users/vicmon/nltk_data...\n",
      "[nltk_data]   Package stopwords is already up-to-date!\n",
      "[nltk_data] Downloading package punkt to /Users/vicmon/nltk_data...\n",
      "[nltk_data]   Package punkt is already up-to-date!\n"
     ]
    }
   ],
   "source": [
    "import numpy as np\n",
    "import re\n",
    "from sklearn.pipeline import Pipeline\n",
    "import pandas as pd\n",
    "from sklearn.feature_extraction.text import CountVectorizer\n",
    "from sklearn.naive_bayes import ComplementNB\n",
    "from sklearn.model_selection import train_test_split\n",
    "from sklearn.metrics import accuracy_score, classification_report\n",
    "from sklearn.feature_extraction.text import TfidfVectorizer\n",
    "from sklearn.naive_bayes import ComplementNB\n",
    "from sklearn.metrics import accuracy_score\n",
    "import spacy\n",
    "import nltk\n",
    "nltk.download('stopwords')\n",
    "nltk.download('punkt')\n",
    "from nltk.corpus import stopwords\n",
    "from nltk.tokenize import word_tokenize\n",
    "from nltk.stem import PorterStemmer\n",
    "import csv\n"
   ]
  },
  {
   "cell_type": "code",
   "execution_count": 107,
   "id": "d70f8b64",
   "metadata": {},
   "outputs": [],
   "source": [
    "train_df = pd.read_csv(('train.csv'))\n",
    "test_df = pd.read_csv(('test.csv'))\n",
    "major_df = pd.read_csv(('major.csv'))"
   ]
  },
  {
   "cell_type": "code",
   "execution_count": 108,
   "id": "047f2833",
   "metadata": {},
   "outputs": [],
   "source": [
    "def word_process(text):\n",
    "    text = text.lower() # to lower case\n",
    "    text = re.sub(r'[^\\w\\s]', '', text)# remove all puncutations\n",
    "    tokens = word_tokenize(text)  # Tokenize text\n",
    "    stop_words = set(stopwords.words('english'))  # Get English stopwords\n",
    "    tokens = [word for word in tokens if word not in stop_words]  # Remove stopwords\n",
    "    porter = PorterStemmer()  # Initialize Porter Stemmer\n",
    "    stemmed_tokens = [porter.stem(word) for word in tokens]\n",
    "    return ' '.join(stemmed_tokens) "
   ]
  },
  {
   "cell_type": "code",
   "execution_count": 109,
   "id": "aabb97ca",
   "metadata": {},
   "outputs": [],
   "source": [
    "data = []\n",
    "with open('train.csv', 'r', encoding='utf-8') as file:\n",
    "    reader = csv.DictReader(file)\n",
    "    for row in reader:\n",
    "        # Preprocess text fields\n",
    "        review = word_process(row['review'])\n",
    "        category = row['category']\n",
    "        data.append((review, category))"
   ]
  },
  {
   "cell_type": "code",
   "execution_count": 110,
   "id": "efb25420",
   "metadata": {},
   "outputs": [],
   "source": [
    "# Split data into features and labels\n",
    "X = [review for review, _ in data]\n",
    "y = [category for _, category in data]"
   ]
  },
  {
   "cell_type": "code",
   "execution_count": 111,
   "id": "4a98c313",
   "metadata": {},
   "outputs": [],
   "source": [
    "from sklearn.pipeline import make_pipeline\n",
    "\n",
    "\n",
    "pipeline = make_pipeline(TfidfVectorizer(), ComplementNB(norm=True))"
   ]
  },
  {
   "cell_type": "code",
   "execution_count": 112,
   "id": "2074d103",
   "metadata": {},
   "outputs": [],
   "source": [
    "X_train, X_test, y_train, y_test = train_test_split(X, y, test_size=0.2, random_state=43)\n"
   ]
  },
  {
   "cell_type": "code",
   "execution_count": 113,
   "id": "3eb2e76b",
   "metadata": {},
   "outputs": [
    {
     "name": "stdout",
     "output_type": "stream",
     "text": [
      "Model Accuracy: 0.8573943661971831\n"
     ]
    }
   ],
   "source": [
    "classifier = pipeline.fit(X_train, y_train)\n",
    "\n",
    "prediction = classifier.predict(X_test)\n",
    "accuracy = accuracy_score(y_test, prediction)\n",
    "print(\"Model Accuracy:\", accuracy)"
   ]
  },
  {
   "cell_type": "code",
   "execution_count": 114,
   "id": "db3352fe",
   "metadata": {},
   "outputs": [],
   "source": [
    "test_data = []\n",
    "with open('test.csv', 'r', encoding='utf-8') as file:\n",
    "    reader = csv.DictReader(file)\n",
    "    for row in reader:\n",
    "        # Preprocess text fields\n",
    "        review = word_process(row['review'])\n",
    "        # category = row['category']\n",
    "        test_data.append((review))"
   ]
  },
  {
   "cell_type": "code",
   "execution_count": 115,
   "id": "d3aa795c",
   "metadata": {},
   "outputs": [
    {
     "name": "stdout",
     "output_type": "stream",
     "text": [
      "Model Accuracy: 0.7362637362637363\n"
     ]
    }
   ],
   "source": [
    "prediction = classifier.predict(test_data)\n",
    "accuracy = accuracy_score(major_df.category, prediction)\n",
    "print(\"Model Accuracy:\", accuracy)"
   ]
  },
  {
   "cell_type": "code",
   "execution_count": null,
   "id": "c3309a94",
   "metadata": {},
   "outputs": [],
   "source": []
  }
 ],
 "metadata": {
  "kernelspec": {
   "display_name": "Python 3",
   "language": "python",
   "name": "python3"
  },
  "language_info": {
   "codemirror_mode": {
    "name": "ipython",
    "version": 3
   },
   "file_extension": ".py",
   "mimetype": "text/x-python",
   "name": "python",
   "nbconvert_exporter": "python",
   "pygments_lexer": "ipython3",
   "version": "3.12.2"
  }
 },
 "nbformat": 4,
 "nbformat_minor": 5
}

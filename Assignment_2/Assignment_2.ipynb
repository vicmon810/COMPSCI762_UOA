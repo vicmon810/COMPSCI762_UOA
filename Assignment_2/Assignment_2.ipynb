{
 "cells": [
  {
   "cell_type": "code",
   "execution_count": 43,
   "id": "1e3e93ec-ddf8-411e-b0c7-c8b54e61c9d6",
   "metadata": {},
   "outputs": [
    {
     "name": "stderr",
     "output_type": "stream",
     "text": [
      "[nltk_data] Downloading package stopwords to\n",
      "[nltk_data]     /Users/vicmon/nltk_data...\n",
      "[nltk_data]   Package stopwords is already up-to-date!\n",
      "[nltk_data] Downloading package punkt to /Users/vicmon/nltk_data...\n",
      "[nltk_data]   Package punkt is already up-to-date!\n",
      "[nltk_data] Downloading package wordnet to /Users/vicmon/nltk_data...\n",
      "[nltk_data]   Package wordnet is already up-to-date!\n"
     ]
    }
   ],
   "source": [
    "import numpy as np\n",
    "import re\n",
    "from sklearn.pipeline import Pipeline\n",
    "import pandas as pd\n",
    "from sklearn.feature_extraction.text import CountVectorizer\n",
    "from sklearn.naive_bayes import MultinomialNB\n",
    "from sklearn.model_selection import train_test_split\n",
    "from sklearn.metrics import accuracy_score, classification_report\n",
    "from sklearn.feature_extraction.text import TfidfVectorizer\n",
    "from sklearn.naive_bayes import ComplementNB\n",
    "from sklearn.metrics import accuracy_score\n",
    "from sklearn.linear_model import LogisticRegression\n",
    "import spacy\n",
    "import nltk\n",
    "nltk.download('stopwords')\n",
    "nltk.download('punkt')\n",
    "nltk.download('wordnet')\n",
    "from nltk.corpus import wordnet as wn\n",
    "from nltk.stem import WordNetLemmatizer\n",
    "from nltk.corpus import stopwords\n",
    "from nltk.tokenize import word_tokenize\n",
    "from nltk.stem import PorterStemmer\n",
    "import csv\n"
   ]
  },
  {
   "cell_type": "code",
   "execution_count": 52,
   "id": "d70f8b64",
   "metadata": {},
   "outputs": [],
   "source": [
    "train_df = pd.read_csv(('train.csv'))\n",
    "test_df = pd.read_csv(('test.csv'))"
   ]
  },
  {
   "cell_type": "code",
   "execution_count": 88,
   "id": "c3309a94",
   "metadata": {},
   "outputs": [],
   "source": [
    "def data_preprocessing(sentences, vectorizer=None):\n",
    "    stop_words = set(stopwords.words('english'))\n",
    "    lemmatizer = WordNetLemmatizer()\n",
    "    processed_reviews = []\n",
    "    \n",
    "    for sentence in sentences:\n",
    "        sentence = re.sub(r'[^a-zA-Z\\s]', '', sentence)\n",
    "        sentence = sentence.lower()\n",
    "        tokens = word_tokenize(sentence)\n",
    "        filtered_tokens = [word for word in tokens if word not in stop_words]\n",
    "        lemmatized_tokens = [lemmatizer.lemmatize(word) for word in filtered_tokens]\n",
    "        processed_review = ' '.join(lemmatized_tokens)\n",
    "        processed_reviews.append(processed_review)\n",
    "    \n",
    "    if vectorizer is None:\n",
    "        vectorizer = CountVectorizer()\n",
    "        X = vectorizer.fit_transform(processed_reviews)\n",
    "    else:\n",
    "        X = vectorizer.transform(processed_reviews)\n",
    "    \n",
    "    return X, vectorizer"
   ]
  },
  {
   "cell_type": "code",
   "execution_count": 89,
   "id": "f5528203",
   "metadata": {},
   "outputs": [
    {
     "name": "stdout",
     "output_type": "stream",
     "text": [
      "Accuracy for task1: 0.9084507042253521\n"
     ]
    }
   ],
   "source": [
    "reviews = train_df.review\n",
    "labels = train_df.category\n",
    "X,vectorizer = data_preprocessing(reviews)\n",
    "\n",
    "X_train, X_test, y_train, y_test = train_test_split(X, labels, test_size=0.2, random_state=42)\n",
    "\n",
    "\n",
    "model = ComplementNB()\n",
    "#model = MultinomialNB()\n",
    "model.fit(X_train, y_train)\n",
    "y_pred = model.predict(X_test)\n",
    "\n",
    "accuracy = accuracy_score(y_test, y_pred)\n",
    "print(\"Accuracy for task1:\", accuracy)\n"
   ]
  },
  {
   "cell_type": "code",
   "execution_count": 90,
   "id": "4c81a7e1",
   "metadata": {},
   "outputs": [],
   "source": [
    "review = test_df.review\n",
    "X_test, _ = data_preprocessing(review, vectorizer)\n",
    "X = X_test\n",
    "prediction = model.predict(X)\n",
    "results_df = pd.DataFrame({'ID': test_df['ID'],'Category': prediction})\n",
    "\n",
    "# Write the DataFrame to a new CSV file\n",
    "results_df.to_csv('predictions.csv', index=False)"
   ]
  },
  {
   "cell_type": "code",
   "execution_count": 103,
   "id": "5a174e01",
   "metadata": {},
   "outputs": [
    {
     "name": "stdout",
     "output_type": "stream",
     "text": [
      "Accuracy for task2: 0.9225352112676056\n"
     ]
    }
   ],
   "source": [
    "# reviews = train_df.review\n",
    "# name = train_df.name\n",
    "labels = train_df.category\n",
    "combine =  train_df['review'] +train_df['name'] + train_df['mean_checkin_time'].astype('str')\n",
    "X,vectorizer = data_preprocessing(combine )\n",
    "\n",
    "X_train, X_test, y_train, y_test = train_test_split(X, labels, test_size=0.2, random_state=42)\n",
    "\n",
    "\n",
    "model = ComplementNB()\n",
    "\n",
    "#model = MultinomialNB()\n",
    "model.fit(X_train, y_train)\n",
    "y_pred = model.predict(X_test)\n",
    "\n",
    "accuracy = accuracy_score(y_test, y_pred)\n",
    "print(\"Accuracy for task2:\", accuracy)\n"
   ]
  },
  {
   "cell_type": "code",
   "execution_count": 106,
   "id": "8c75b927",
   "metadata": {},
   "outputs": [],
   "source": [
    "combine =  test_df['review'] + test_df['name']+test_df['mean_checkin_time'].astype('str')\n",
    "X_test, _ = data_preprocessing(review, vectorizer)\n",
    "X = X_test\n",
    "prediction = model.predict(X)\n",
    "results_df = pd.DataFrame({'ID': test_df['ID'],'Category': prediction})\n",
    "\n",
    "# Write the DataFrame to a new CSV file\n",
    "results_df.to_csv('predictions1.csv', index=False)"
   ]
  },
  {
   "cell_type": "code",
   "execution_count": null,
   "id": "40a70914",
   "metadata": {},
   "outputs": [],
   "source": []
  }
 ],
 "metadata": {
  "kernelspec": {
   "display_name": "Python 3",
   "language": "python",
   "name": "python3"
  },
  "language_info": {
   "codemirror_mode": {
    "name": "ipython",
    "version": 3
   },
   "file_extension": ".py",
   "mimetype": "text/x-python",
   "name": "python",
   "nbconvert_exporter": "python",
   "pygments_lexer": "ipython3",
   "version": "3.12.2"
  }
 },
 "nbformat": 4,
 "nbformat_minor": 5
}
